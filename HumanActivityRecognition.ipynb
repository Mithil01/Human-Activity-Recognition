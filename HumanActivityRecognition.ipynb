{
  "cells": [
    {
      "cell_type": "markdown",
      "metadata": {
        "id": "view-in-github",
        "colab_type": "text"
      },
      "source": [
        "<a href=\"https://colab.research.google.com/github/Mithil01/Human-Activity-Recognition/blob/main/HumanActivityRecognition.ipynb\" target=\"_parent\"><img src=\"https://colab.research.google.com/assets/colab-badge.svg\" alt=\"Open In Colab\"/></a>"
      ]
    },
    {
      "cell_type": "code",
      "execution_count": null,
      "metadata": {
        "collapsed": true,
        "id": "JIybaXqQ0Cic"
      },
      "outputs": [],
      "source": [
        "# Importing Libraries"
      ]
    },
    {
      "cell_type": "code",
      "source": [
        "!pip install prettytable"
      ],
      "metadata": {
        "colab": {
          "base_uri": "https://localhost:8080/"
        },
        "id": "vzo9tiRORHpT",
        "outputId": "c4e89bfe-6d43-4b21-83fe-dbc9df52f082"
      },
      "execution_count": 61,
      "outputs": [
        {
          "output_type": "stream",
          "name": "stdout",
          "text": [
            "Looking in indexes: https://pypi.org/simple, https://us-python.pkg.dev/colab-wheels/public/simple/\n",
            "Requirement already satisfied: prettytable in /usr/local/lib/python3.7/dist-packages (3.5.0)\n",
            "Requirement already satisfied: importlib-metadata in /usr/local/lib/python3.7/dist-packages (from prettytable) (4.13.0)\n",
            "Requirement already satisfied: wcwidth in /usr/local/lib/python3.7/dist-packages (from prettytable) (0.2.5)\n",
            "Requirement already satisfied: zipp>=0.5 in /usr/local/lib/python3.7/dist-packages (from importlib-metadata->prettytable) (3.10.0)\n",
            "Requirement already satisfied: typing-extensions>=3.6.4 in /usr/local/lib/python3.7/dist-packages (from importlib-metadata->prettytable) (4.1.1)\n"
          ]
        }
      ]
    },
    {
      "cell_type": "code",
      "source": [
        "!unzip train.zip\n",
        "!unzip test.zip"
      ],
      "metadata": {
        "colab": {
          "base_uri": "https://localhost:8080/"
        },
        "id": "9IfOt4t-Dpe5",
        "outputId": "2eca1060-1d91-4dfa-d3c5-46b9cfccf92a"
      },
      "execution_count": 5,
      "outputs": [
        {
          "output_type": "stream",
          "name": "stdout",
          "text": [
            "Archive:  train.zip\n",
            "  inflating: train/.DS_Store         \n",
            "   creating: train/Inertial Signals/\n",
            "  inflating: train/Inertial Signals/body_acc_x_train.txt  \n",
            "  inflating: train/Inertial Signals/body_acc_y_train.txt  \n",
            "  inflating: train/Inertial Signals/body_acc_z_train.txt  \n",
            "  inflating: train/Inertial Signals/body_gyro_x_train.txt  \n",
            "  inflating: train/Inertial Signals/body_gyro_y_train.txt  \n",
            "  inflating: train/Inertial Signals/body_gyro_z_train.txt  \n",
            "  inflating: train/Inertial Signals/total_acc_x_train.txt  \n",
            "  inflating: train/Inertial Signals/total_acc_y_train.txt  \n",
            "  inflating: train/Inertial Signals/total_acc_z_train.txt  \n",
            "  inflating: train/subject_train.txt  \n",
            "  inflating: train/X_train.txt       \n",
            "  inflating: train/y_train.txt       \n",
            "Archive:  test.zip\n",
            "   creating: test/Inertial Signals/\n",
            "  inflating: test/Inertial Signals/body_acc_x_test.txt  \n",
            "  inflating: test/Inertial Signals/body_acc_y_test.txt  \n",
            "  inflating: test/Inertial Signals/body_acc_z_test.txt  \n",
            "  inflating: test/Inertial Signals/body_gyro_x_test.txt  \n",
            "  inflating: test/Inertial Signals/body_gyro_y_test.txt  \n",
            "  inflating: test/Inertial Signals/body_gyro_z_test.txt  \n",
            "  inflating: test/Inertial Signals/total_acc_x_test.txt  \n",
            "  inflating: test/Inertial Signals/total_acc_y_test.txt  \n",
            "  inflating: test/Inertial Signals/total_acc_z_test.txt  \n",
            "  inflating: test/subject_test.txt   \n",
            "  inflating: test/X_test.txt         \n",
            "  inflating: test/y_test.txt         \n"
          ]
        }
      ]
    },
    {
      "cell_type": "code",
      "execution_count": 62,
      "metadata": {
        "collapsed": true,
        "id": "SPJ2v9g50Cie"
      },
      "outputs": [],
      "source": [
        "import pandas as pd\n",
        "import numpy as np"
      ]
    },
    {
      "cell_type": "code",
      "execution_count": 1,
      "metadata": {
        "collapsed": true,
        "id": "SX2HrKo50Cif"
      },
      "outputs": [],
      "source": [
        "# Activities are the class labels\n",
        "# It is a 6 class classification\n",
        "ACTIVITIES = {\n",
        "    0: 'WALKING',\n",
        "    1: 'WALKING_UPSTAIRS',\n",
        "    2: 'WALKING_DOWNSTAIRS',\n",
        "    3: 'SITTING',\n",
        "    4: 'STANDING',\n",
        "    5: 'LAYING',\n",
        "}\n",
        "\n",
        "# Utility function to print the confusion matrix\n",
        "def confusion_matrix(Y_true, Y_pred):\n",
        "    Y_true = pd.Series([ACTIVITIES[y] for y in np.argmax(Y_true, axis=1)])\n",
        "    Y_pred = pd.Series([ACTIVITIES[y] for y in np.argmax(Y_pred, axis=1)])\n",
        "\n",
        "    return pd.crosstab(Y_true, Y_pred, rownames=['True'], colnames=['Pred'])"
      ]
    },
    {
      "cell_type": "markdown",
      "metadata": {
        "id": "8DapJ5lJ0Cig"
      },
      "source": [
        "### Data"
      ]
    },
    {
      "cell_type": "code",
      "execution_count": 3,
      "metadata": {
        "collapsed": true,
        "id": "9yqCaD3N0Cih"
      },
      "outputs": [],
      "source": [
        "# Raw data signals\n",
        "# Signals are from Accelerometer and Gyroscope\n",
        "# The signals are in x,y,z directions\n",
        "# Sensor signals are filtered to have only body acceleration\n",
        "# excluding the acceleration due to gravity\n",
        "# Triaxial acceleration from the accelerometer is total acceleration\n",
        "SIGNALS = [\n",
        "    \"body_acc_x\",\n",
        "    \"body_acc_y\",\n",
        "    \"body_acc_z\",\n",
        "    \"body_gyro_x\",\n",
        "    \"body_gyro_y\",\n",
        "    \"body_gyro_z\",\n",
        "    \"total_acc_x\",\n",
        "    \"total_acc_y\",\n",
        "    \"total_acc_z\"\n",
        "]"
      ]
    },
    {
      "cell_type": "code",
      "execution_count": 23,
      "metadata": {
        "collapsed": true,
        "id": "W2EOPHXn0Cii"
      },
      "outputs": [],
      "source": [
        "# Utility function to read the data from csv file\n",
        "def _read_csv(filename):\n",
        "    return pd.read_csv(filename, delim_whitespace=True, header=None)\n",
        "\n",
        "# Utility function to load the load\n",
        "def load_signals(subset):\n",
        "    signals_data = []\n",
        "    \n",
        "    for signal in SIGNALS:\n",
        "        filename = f'{subset}/Inertial Signals/{signal}_{subset}.txt'\n",
        "        signals_data.append(\n",
        "            _read_csv(filename).to_numpy()\n",
        "        ) \n",
        "      \n",
        "\n",
        "    # Transpose is used to change the dimensionality of the output,\n",
        "    # aggregating the signals by combination of sample/timestep.\n",
        "    # Resultant shape is (7352 train/2947 test samples, 128 timesteps, 9 signals)\n",
        "    return np.transpose(signals_data, (1, 2, 0))"
      ]
    },
    {
      "cell_type": "code",
      "execution_count": 87,
      "metadata": {
        "collapsed": true,
        "id": "PbnXThAZ0Cij"
      },
      "outputs": [],
      "source": [
        "\n",
        "def load_y(subset):\n",
        "    \"\"\"\n",
        "    The objective that we are trying to predict is a integer, from 1 to 6,\n",
        "    that represents a human activity. We return a binary representation of \n",
        "    every sample objective as a 6 bits vector using One Hot Encoding\n",
        "    \"\"\"\n",
        "    filename = f'{subset}/y_{subset}.txt'\n",
        "    y = _read_csv(filename)[0]\n",
        "\n",
        "\n",
        "    return pd.get_dummies(y).to_numpy()"
      ]
    },
    {
      "cell_type": "code",
      "execution_count": 20,
      "metadata": {
        "collapsed": true,
        "id": "ISTEvfgd0Cij"
      },
      "outputs": [],
      "source": [
        "def load_data():\n",
        "    \"\"\"\n",
        "    Obtain the dataset from multiple files.\n",
        "    Returns: X_train, X_test, y_train, y_test\n",
        "    \"\"\"\n",
        "    X_train, X_test = load_signals('train'), load_signals('test')\n",
        "    y_train, y_test = load_y('train'), load_y('test')\n",
        "\n",
        "    return X_train, X_test, y_train, y_test"
      ]
    },
    {
      "cell_type": "code",
      "execution_count": 28,
      "metadata": {
        "collapsed": true,
        "id": "5BLlZPRX0Cil"
      },
      "outputs": [],
      "source": [
        "# Importing tensorflow\n",
        "np.random.seed(42)\n",
        "import tensorflow as tf\n"
      ]
    },
    {
      "cell_type": "code",
      "execution_count": 32,
      "metadata": {
        "collapsed": true,
        "id": "pdr0mrmq0Cim"
      },
      "outputs": [],
      "source": [
        "# Importing libraries\n",
        "from keras.models import Sequential\n",
        "from keras.layers import LSTM\n",
        "from keras.layers.core import Dense, Dropout"
      ]
    },
    {
      "cell_type": "code",
      "execution_count": 33,
      "metadata": {
        "collapsed": true,
        "id": "L-MUSX800Cim"
      },
      "outputs": [],
      "source": [
        "# Initializing parameters\n",
        "epochs = 30\n",
        "batch_size = 16\n",
        "n_hidden = 32"
      ]
    },
    {
      "cell_type": "code",
      "execution_count": 34,
      "metadata": {
        "collapsed": true,
        "id": "T5meICrS0Cin"
      },
      "outputs": [],
      "source": [
        "# Utility function to count the number of classes\n",
        "def _count_classes(y):\n",
        "    return len(set([tuple(category) for category in y]))"
      ]
    },
    {
      "cell_type": "code",
      "execution_count": 24,
      "metadata": {
        "collapsed": true,
        "id": "ETAH1jrd0Cin"
      },
      "outputs": [],
      "source": [
        "# Loading the train and test data\n",
        "X_train, X_test, Y_train, Y_test = load_data()"
      ]
    },
    {
      "cell_type": "code",
      "source": [
        "X_train.shape"
      ],
      "metadata": {
        "colab": {
          "base_uri": "https://localhost:8080/"
        },
        "id": "7brdVm_8HXSY",
        "outputId": "0e1daeae-cd3d-463c-c4fd-6850b7376bce"
      },
      "execution_count": 26,
      "outputs": [
        {
          "output_type": "execute_result",
          "data": {
            "text/plain": [
              "(7352, 128, 9)"
            ]
          },
          "metadata": {},
          "execution_count": 26
        }
      ]
    },
    {
      "cell_type": "code",
      "execution_count": 45,
      "metadata": {
        "colab": {
          "base_uri": "https://localhost:8080/"
        },
        "id": "QkTIJznS0Cin",
        "outputId": "8e096ad9-89fa-47a5-915c-5dd968c6d47c"
      },
      "outputs": [
        {
          "output_type": "stream",
          "name": "stdout",
          "text": [
            "128\n",
            "9\n",
            "7352\n",
            "6\n"
          ]
        }
      ],
      "source": [
        "timesteps = len(X_train[0])\n",
        "input_dim = len(X_train[0][0])\n",
        "n_classes = _count_classes(Y_train)\n",
        "n_outputs = Y_train.shape[1]\n",
        "\n",
        "print(timesteps)\n",
        "print(input_dim)\n",
        "print(len(X_train))\n",
        "print(n_outputs)"
      ]
    },
    {
      "cell_type": "markdown",
      "metadata": {
        "id": "ffaGos3y0Cio"
      },
      "source": [
        "- Defining the Architecture of LSTM"
      ]
    },
    {
      "cell_type": "code",
      "execution_count": 36,
      "metadata": {
        "colab": {
          "base_uri": "https://localhost:8080/"
        },
        "id": "e5iBKqQc0Cio",
        "outputId": "5885b025-5483-478f-d8ae-b16a2dbc7817"
      },
      "outputs": [
        {
          "output_type": "stream",
          "name": "stdout",
          "text": [
            "Model: \"sequential\"\n",
            "_________________________________________________________________\n",
            " Layer (type)                Output Shape              Param #   \n",
            "=================================================================\n",
            " lstm (LSTM)                 (None, 32)                5376      \n",
            "                                                                 \n",
            " dropout (Dropout)           (None, 32)                0         \n",
            "                                                                 \n",
            " dense (Dense)               (None, 6)                 198       \n",
            "                                                                 \n",
            "=================================================================\n",
            "Total params: 5,574\n",
            "Trainable params: 5,574\n",
            "Non-trainable params: 0\n",
            "_________________________________________________________________\n"
          ]
        }
      ],
      "source": [
        "# Initiliazing the sequential model\n",
        "model = Sequential()\n",
        "# Configuring the parameters\n",
        "model.add(LSTM(n_hidden, input_shape=(timesteps, input_dim)))\n",
        "# Adding a dropout layer\n",
        "model.add(Dropout(0.5))\n",
        "# Adding a dense output layer with sigmoid activation\n",
        "model.add(Dense(n_classes, activation='sigmoid'))\n",
        "model.summary()"
      ]
    },
    {
      "cell_type": "code",
      "execution_count": 37,
      "metadata": {
        "collapsed": true,
        "id": "_MpkqBX80Cio"
      },
      "outputs": [],
      "source": [
        "# Compiling the model\n",
        "model.compile(loss='categorical_crossentropy',\n",
        "              optimizer='Adam',\n",
        "              metrics=['accuracy'])"
      ]
    },
    {
      "cell_type": "code",
      "execution_count": 38,
      "metadata": {
        "colab": {
          "base_uri": "https://localhost:8080/"
        },
        "id": "s2LBgi6t0Cio",
        "outputId": "04aa5689-4088-4861-fe63-2dd01cfbad7a"
      },
      "outputs": [
        {
          "output_type": "stream",
          "name": "stdout",
          "text": [
            "Epoch 1/30\n",
            "460/460 [==============================] - 27s 53ms/step - loss: 1.2464 - accuracy: 0.4894 - val_loss: 1.0256 - val_accuracy: 0.5914\n",
            "Epoch 2/30\n",
            "460/460 [==============================] - 25s 54ms/step - loss: 0.8947 - accuracy: 0.6190 - val_loss: 0.8414 - val_accuracy: 0.6396\n",
            "Epoch 3/30\n",
            "460/460 [==============================] - 24s 53ms/step - loss: 0.7524 - accuracy: 0.6665 - val_loss: 0.7585 - val_accuracy: 0.7109\n",
            "Epoch 4/30\n",
            "460/460 [==============================] - 25s 55ms/step - loss: 0.6359 - accuracy: 0.7372 - val_loss: 0.7886 - val_accuracy: 0.6871\n",
            "Epoch 5/30\n",
            "460/460 [==============================] - 23s 49ms/step - loss: 0.5612 - accuracy: 0.7866 - val_loss: 0.6080 - val_accuracy: 0.7737\n",
            "Epoch 6/30\n",
            "460/460 [==============================] - 22s 47ms/step - loss: 0.4705 - accuracy: 0.8443 - val_loss: 0.5059 - val_accuracy: 0.8168\n",
            "Epoch 7/30\n",
            "460/460 [==============================] - 24s 52ms/step - loss: 0.3568 - accuracy: 0.8904 - val_loss: 0.4619 - val_accuracy: 0.8317\n",
            "Epoch 8/30\n",
            "460/460 [==============================] - 23s 51ms/step - loss: 0.2867 - accuracy: 0.9115 - val_loss: 0.5163 - val_accuracy: 0.8426\n",
            "Epoch 9/30\n",
            "460/460 [==============================] - 22s 48ms/step - loss: 0.2375 - accuracy: 0.9249 - val_loss: 0.5164 - val_accuracy: 0.8531\n",
            "Epoch 10/30\n",
            "460/460 [==============================] - 25s 54ms/step - loss: 0.2223 - accuracy: 0.9293 - val_loss: 0.4340 - val_accuracy: 0.8697\n",
            "Epoch 11/30\n",
            "460/460 [==============================] - 25s 54ms/step - loss: 0.2093 - accuracy: 0.9328 - val_loss: 0.4376 - val_accuracy: 0.8853\n",
            "Epoch 12/30\n",
            "460/460 [==============================] - 27s 59ms/step - loss: 0.2079 - accuracy: 0.9319 - val_loss: 0.4720 - val_accuracy: 0.8504\n",
            "Epoch 13/30\n",
            "460/460 [==============================] - 24s 53ms/step - loss: 0.2069 - accuracy: 0.9346 - val_loss: 0.4666 - val_accuracy: 0.8894\n",
            "Epoch 14/30\n",
            "460/460 [==============================] - 23s 49ms/step - loss: 0.1857 - accuracy: 0.9381 - val_loss: 0.4423 - val_accuracy: 0.8887\n",
            "Epoch 15/30\n",
            "460/460 [==============================] - 24s 53ms/step - loss: 0.2190 - accuracy: 0.9295 - val_loss: 0.4386 - val_accuracy: 0.8795\n",
            "Epoch 16/30\n",
            "460/460 [==============================] - 23s 49ms/step - loss: 0.2808 - accuracy: 0.9070 - val_loss: 0.3738 - val_accuracy: 0.8982\n",
            "Epoch 17/30\n",
            "460/460 [==============================] - 22s 48ms/step - loss: 0.1932 - accuracy: 0.9406 - val_loss: 0.4749 - val_accuracy: 0.8863\n",
            "Epoch 18/30\n",
            "460/460 [==============================] - 25s 55ms/step - loss: 0.1709 - accuracy: 0.9440 - val_loss: 0.4507 - val_accuracy: 0.8989\n",
            "Epoch 19/30\n",
            "460/460 [==============================] - 23s 49ms/step - loss: 0.1693 - accuracy: 0.9426 - val_loss: 0.4309 - val_accuracy: 0.8918\n",
            "Epoch 20/30\n",
            "460/460 [==============================] - 24s 53ms/step - loss: 0.1593 - accuracy: 0.9446 - val_loss: 0.2967 - val_accuracy: 0.9030\n",
            "Epoch 21/30\n",
            "460/460 [==============================] - 26s 56ms/step - loss: 0.1702 - accuracy: 0.9392 - val_loss: 0.5687 - val_accuracy: 0.8741\n",
            "Epoch 22/30\n",
            "460/460 [==============================] - 23s 50ms/step - loss: 0.1372 - accuracy: 0.9483 - val_loss: 0.4249 - val_accuracy: 0.9033\n",
            "Epoch 23/30\n",
            "460/460 [==============================] - 22s 47ms/step - loss: 0.1530 - accuracy: 0.9434 - val_loss: 0.5299 - val_accuracy: 0.8042\n",
            "Epoch 24/30\n",
            "460/460 [==============================] - 26s 57ms/step - loss: 0.1665 - accuracy: 0.9385 - val_loss: 0.3707 - val_accuracy: 0.9070\n",
            "Epoch 25/30\n",
            "460/460 [==============================] - 23s 49ms/step - loss: 0.1506 - accuracy: 0.9445 - val_loss: 0.4822 - val_accuracy: 0.8928\n",
            "Epoch 26/30\n",
            "460/460 [==============================] - 24s 53ms/step - loss: 0.1407 - accuracy: 0.9494 - val_loss: 0.5402 - val_accuracy: 0.8795\n",
            "Epoch 27/30\n",
            "460/460 [==============================] - 23s 49ms/step - loss: 0.2798 - accuracy: 0.9078 - val_loss: 0.4508 - val_accuracy: 0.8524\n",
            "Epoch 28/30\n",
            "460/460 [==============================] - 23s 51ms/step - loss: 0.2892 - accuracy: 0.9038 - val_loss: 0.4812 - val_accuracy: 0.8761\n",
            "Epoch 29/30\n",
            "460/460 [==============================] - 25s 54ms/step - loss: 0.1722 - accuracy: 0.9433 - val_loss: 0.3759 - val_accuracy: 0.8989\n",
            "Epoch 30/30\n",
            "460/460 [==============================] - 21s 47ms/step - loss: 0.1452 - accuracy: 0.9470 - val_loss: 0.4038 - val_accuracy: 0.9009\n"
          ]
        },
        {
          "output_type": "execute_result",
          "data": {
            "text/plain": [
              "<keras.callbacks.History at 0x7fd98d66a250>"
            ]
          },
          "metadata": {},
          "execution_count": 38
        }
      ],
      "source": [
        "# Training the model\n",
        "model.fit(X_train,\n",
        "          Y_train,\n",
        "          batch_size=batch_size,\n",
        "          validation_data=(X_test, Y_test),\n",
        "          epochs=epochs)"
      ]
    },
    {
      "cell_type": "code",
      "execution_count": 39,
      "metadata": {
        "colab": {
          "base_uri": "https://localhost:8080/"
        },
        "id": "T_IeMkBU0Cio",
        "outputId": "4ae233ed-a16d-4b19-941c-ad40780f886a"
      },
      "outputs": [
        {
          "output_type": "stream",
          "name": "stdout",
          "text": [
            "93/93 [==============================] - 2s 12ms/step\n",
            "Pred                LAYING  SITTING  STANDING  WALKING  WALKING_DOWNSTAIRS  \\\n",
            "True                                                                         \n",
            "LAYING                 510        0         0        0                   0   \n",
            "SITTING                  0      409        77        1                   0   \n",
            "STANDING                 0      118       413        1                   0   \n",
            "WALKING                  0        0         2      488                   4   \n",
            "WALKING_DOWNSTAIRS       0        0         0        3                 412   \n",
            "WALKING_UPSTAIRS         0        0         0       40                   8   \n",
            "\n",
            "Pred                WALKING_UPSTAIRS  \n",
            "True                                  \n",
            "LAYING                            27  \n",
            "SITTING                            4  \n",
            "STANDING                           0  \n",
            "WALKING                            2  \n",
            "WALKING_DOWNSTAIRS                 5  \n",
            "WALKING_UPSTAIRS                 423  \n"
          ]
        }
      ],
      "source": [
        "# Confusion Matrix\n",
        "print(confusion_matrix(Y_test, model.predict(X_test)))"
      ]
    },
    {
      "cell_type": "code",
      "execution_count": 40,
      "metadata": {
        "colab": {
          "base_uri": "https://localhost:8080/"
        },
        "id": "mjcec1UC0Cip",
        "outputId": "201bae25-e2b9-4d23-b749-6e7cef714a44"
      },
      "outputs": [
        {
          "output_type": "stream",
          "name": "stdout",
          "text": [
            "93/93 [==============================] - 2s 20ms/step - loss: 0.4038 - accuracy: 0.9009\n"
          ]
        }
      ],
      "source": [
        "score = model.evaluate(X_test, Y_test)"
      ]
    },
    {
      "cell_type": "code",
      "execution_count": null,
      "metadata": {
        "id": "kmYoUVPf0Cip"
      },
      "outputs": [],
      "source": [
        "score"
      ]
    },
    {
      "cell_type": "markdown",
      "metadata": {
        "id": "A0bln94b0Cip"
      },
      "source": [
        "- With a simple 2 layer architecture we got 90.09% accuracy and a loss of 0.40\n",
        "- We can further imporve the performace with Hyperparameter tuning"
      ]
    },
    {
      "cell_type": "markdown",
      "source": [
        "# **Now we will see how does 1D convolution perform for this task and compare its results with LSTM results.**\n",
        "\n",
        "\n",
        "\n",
        "\n",
        "\n"
      ],
      "metadata": {
        "id": "Sc8rEXYMXnhT"
      }
    },
    {
      "cell_type": "code",
      "source": [
        "from keras.layers.convolutional import Conv1D\n",
        "from keras.layers.convolutional import MaxPooling1D\n",
        "from keras.layers import Flatten"
      ],
      "metadata": {
        "id": "dUAyxKaBLHLN"
      },
      "execution_count": 43,
      "outputs": []
    },
    {
      "cell_type": "code",
      "source": [
        "#Defining the arch of Convolution model\n",
        "convmodel = Sequential()\n",
        "convmodel.add(Conv1D(32,3,activation = 'relu', input_shape=(timesteps, input_dim)))\n",
        "convmodel.add(Conv1D(32,3,activation = 'relu'))\n",
        "convmodel.add(Dropout(0.5))\n",
        "convmodel.add(MaxPooling1D(pool_size=2))\n",
        "convmodel.add(Flatten())\n",
        "convmodel.add(Dense(64,activation='relu'))\n",
        "convmodel.add(Dense(n_outputs, activation='softmax'))\n",
        "convmodel.summary()"
      ],
      "metadata": {
        "colab": {
          "base_uri": "https://localhost:8080/"
        },
        "id": "-2vlYqe-K0FZ",
        "outputId": "ca2095f8-b821-4b1a-baa9-c9e9cb201b05"
      },
      "execution_count": 85,
      "outputs": [
        {
          "output_type": "stream",
          "name": "stdout",
          "text": [
            "Model: \"sequential_6\"\n",
            "_________________________________________________________________\n",
            " Layer (type)                Output Shape              Param #   \n",
            "=================================================================\n",
            " conv1d_8 (Conv1D)           (None, 126, 32)           896       \n",
            "                                                                 \n",
            " conv1d_9 (Conv1D)           (None, 124, 32)           3104      \n",
            "                                                                 \n",
            " dropout_3 (Dropout)         (None, 124, 32)           0         \n",
            "                                                                 \n",
            " max_pooling1d_2 (MaxPooling  (None, 62, 32)           0         \n",
            " 1D)                                                             \n",
            "                                                                 \n",
            " flatten_2 (Flatten)         (None, 1984)              0         \n",
            "                                                                 \n",
            " dense_5 (Dense)             (None, 64)                127040    \n",
            "                                                                 \n",
            " dense_6 (Dense)             (None, 6)                 390       \n",
            "                                                                 \n",
            "=================================================================\n",
            "Total params: 131,430\n",
            "Trainable params: 131,430\n",
            "Non-trainable params: 0\n",
            "_________________________________________________________________\n"
          ]
        }
      ]
    },
    {
      "cell_type": "code",
      "source": [
        "# Compiling the Convolution model\n",
        "convmodel.compile(loss='categorical_crossentropy',\n",
        "              optimizer='Adam',\n",
        "              metrics=['accuracy'])"
      ],
      "metadata": {
        "id": "wK8mYCdCM__8"
      },
      "execution_count": 51,
      "outputs": []
    },
    {
      "cell_type": "code",
      "source": [
        "# Training the convolution model\n",
        "convmodel.fit(X_train,\n",
        "          Y_train,\n",
        "          batch_size=batch_size,\n",
        "          validation_data=(X_test, Y_test),\n",
        "          epochs=epochs)"
      ],
      "metadata": {
        "colab": {
          "base_uri": "https://localhost:8080/"
        },
        "id": "IHS5FshCNI0I",
        "outputId": "22caf52c-aa7a-4a85-d429-c95fe7130eba"
      },
      "execution_count": 52,
      "outputs": [
        {
          "output_type": "stream",
          "name": "stdout",
          "text": [
            "Epoch 1/30\n",
            "460/460 [==============================] - 7s 14ms/step - loss: 0.4017 - accuracy: 0.8406 - val_loss: 0.3236 - val_accuracy: 0.8904\n",
            "Epoch 2/30\n",
            "460/460 [==============================] - 7s 15ms/step - loss: 0.1428 - accuracy: 0.9441 - val_loss: 0.3564 - val_accuracy: 0.8989\n",
            "Epoch 3/30\n",
            "460/460 [==============================] - 6s 13ms/step - loss: 0.1271 - accuracy: 0.9474 - val_loss: 0.2701 - val_accuracy: 0.8894\n",
            "Epoch 4/30\n",
            "460/460 [==============================] - 6s 13ms/step - loss: 0.1083 - accuracy: 0.9565 - val_loss: 0.3512 - val_accuracy: 0.8687\n",
            "Epoch 5/30\n",
            "460/460 [==============================] - 7s 15ms/step - loss: 0.1196 - accuracy: 0.9499 - val_loss: 0.2353 - val_accuracy: 0.9152\n",
            "Epoch 6/30\n",
            "460/460 [==============================] - 7s 15ms/step - loss: 0.1041 - accuracy: 0.9566 - val_loss: 0.2820 - val_accuracy: 0.9053\n",
            "Epoch 7/30\n",
            "460/460 [==============================] - 6s 13ms/step - loss: 0.1067 - accuracy: 0.9513 - val_loss: 0.2669 - val_accuracy: 0.9162\n",
            "Epoch 8/30\n",
            "460/460 [==============================] - 6s 13ms/step - loss: 0.0920 - accuracy: 0.9621 - val_loss: 0.2586 - val_accuracy: 0.9121\n",
            "Epoch 9/30\n",
            "460/460 [==============================] - 6s 12ms/step - loss: 0.0876 - accuracy: 0.9635 - val_loss: 0.2974 - val_accuracy: 0.9169\n",
            "Epoch 10/30\n",
            "460/460 [==============================] - 7s 15ms/step - loss: 0.0819 - accuracy: 0.9633 - val_loss: 0.3662 - val_accuracy: 0.9036\n",
            "Epoch 11/30\n",
            "460/460 [==============================] - 5s 12ms/step - loss: 0.0864 - accuracy: 0.9618 - val_loss: 0.2680 - val_accuracy: 0.9125\n",
            "Epoch 12/30\n",
            "460/460 [==============================] - 7s 14ms/step - loss: 0.0736 - accuracy: 0.9678 - val_loss: 0.2741 - val_accuracy: 0.9182\n",
            "Epoch 13/30\n",
            "460/460 [==============================] - 6s 13ms/step - loss: 0.0713 - accuracy: 0.9675 - val_loss: 0.4148 - val_accuracy: 0.8873\n",
            "Epoch 14/30\n",
            "460/460 [==============================] - 6s 13ms/step - loss: 0.0721 - accuracy: 0.9660 - val_loss: 0.4808 - val_accuracy: 0.8935\n",
            "Epoch 15/30\n",
            "460/460 [==============================] - 6s 12ms/step - loss: 0.0714 - accuracy: 0.9686 - val_loss: 0.4495 - val_accuracy: 0.9138\n",
            "Epoch 16/30\n",
            "460/460 [==============================] - 5s 12ms/step - loss: 0.0748 - accuracy: 0.9687 - val_loss: 0.4243 - val_accuracy: 0.8911\n",
            "Epoch 17/30\n",
            "460/460 [==============================] - 6s 14ms/step - loss: 0.0664 - accuracy: 0.9694 - val_loss: 0.5618 - val_accuracy: 0.9043\n",
            "Epoch 18/30\n",
            "460/460 [==============================] - 6s 13ms/step - loss: 0.0630 - accuracy: 0.9714 - val_loss: 0.4434 - val_accuracy: 0.9131\n",
            "Epoch 19/30\n",
            "460/460 [==============================] - 5s 12ms/step - loss: 0.0590 - accuracy: 0.9710 - val_loss: 0.6536 - val_accuracy: 0.8826\n",
            "Epoch 20/30\n",
            "460/460 [==============================] - 6s 14ms/step - loss: 0.0697 - accuracy: 0.9693 - val_loss: 0.5296 - val_accuracy: 0.8860\n",
            "Epoch 21/30\n",
            "460/460 [==============================] - 6s 13ms/step - loss: 0.0546 - accuracy: 0.9735 - val_loss: 0.5767 - val_accuracy: 0.9023\n",
            "Epoch 22/30\n",
            "460/460 [==============================] - 7s 14ms/step - loss: 0.0577 - accuracy: 0.9724 - val_loss: 0.5198 - val_accuracy: 0.9084\n",
            "Epoch 23/30\n",
            "460/460 [==============================] - 7s 16ms/step - loss: 0.0581 - accuracy: 0.9750 - val_loss: 0.4907 - val_accuracy: 0.8928\n",
            "Epoch 24/30\n",
            "460/460 [==============================] - 7s 15ms/step - loss: 0.0567 - accuracy: 0.9733 - val_loss: 0.6247 - val_accuracy: 0.9057\n",
            "Epoch 25/30\n",
            "460/460 [==============================] - 6s 12ms/step - loss: 0.0586 - accuracy: 0.9744 - val_loss: 0.6355 - val_accuracy: 0.9087\n",
            "Epoch 26/30\n",
            "460/460 [==============================] - 5s 11ms/step - loss: 0.0510 - accuracy: 0.9740 - val_loss: 0.7212 - val_accuracy: 0.9077\n",
            "Epoch 27/30\n",
            "460/460 [==============================] - 5s 12ms/step - loss: 0.0449 - accuracy: 0.9796 - val_loss: 0.7158 - val_accuracy: 0.9182\n",
            "Epoch 28/30\n",
            "460/460 [==============================] - 6s 13ms/step - loss: 0.0686 - accuracy: 0.9735 - val_loss: 0.4412 - val_accuracy: 0.9040\n",
            "Epoch 29/30\n",
            "460/460 [==============================] - 7s 14ms/step - loss: 0.0526 - accuracy: 0.9743 - val_loss: 0.4365 - val_accuracy: 0.9111\n",
            "Epoch 30/30\n",
            "460/460 [==============================] - 7s 15ms/step - loss: 0.0468 - accuracy: 0.9781 - val_loss: 0.5346 - val_accuracy: 0.9074\n"
          ]
        },
        {
          "output_type": "execute_result",
          "data": {
            "text/plain": [
              "<keras.callbacks.History at 0x7fd98d297390>"
            ]
          },
          "metadata": {},
          "execution_count": 52
        }
      ]
    },
    {
      "cell_type": "code",
      "source": [
        "# Confusion Matrix for convolution model\n",
        "print(confusion_matrix(Y_test, convmodel.predict(X_test)))"
      ],
      "metadata": {
        "colab": {
          "base_uri": "https://localhost:8080/"
        },
        "id": "QLZWNifBOE0N",
        "outputId": "24d2a93e-79e6-4b54-bbed-cd155c278330"
      },
      "execution_count": 53,
      "outputs": [
        {
          "output_type": "stream",
          "name": "stdout",
          "text": [
            "93/93 [==============================] - 1s 6ms/step\n",
            "Pred                LAYING  SITTING  STANDING  WALKING  WALKING_DOWNSTAIRS  \\\n",
            "True                                                                         \n",
            "LAYING                 510        0        22        0                   0   \n",
            "SITTING                  0      381       105        0                   0   \n",
            "STANDING                 0       58       469        1                   0   \n",
            "WALKING                  0        0         0      485                  11   \n",
            "WALKING_DOWNSTAIRS       0        0         0       10                 406   \n",
            "WALKING_UPSTAIRS         0        0         0       25                  23   \n",
            "\n",
            "Pred                WALKING_UPSTAIRS  \n",
            "True                                  \n",
            "LAYING                             5  \n",
            "SITTING                            5  \n",
            "STANDING                           4  \n",
            "WALKING                            0  \n",
            "WALKING_DOWNSTAIRS                 4  \n",
            "WALKING_UPSTAIRS                 423  \n"
          ]
        }
      ]
    },
    {
      "cell_type": "code",
      "source": [
        "convscore = convmodel.evaluate(X_test, Y_test)"
      ],
      "metadata": {
        "colab": {
          "base_uri": "https://localhost:8080/"
        },
        "id": "vQNr4rRlOMd1",
        "outputId": "7e46e867-1d63-4b96-802a-5f34de3bb2b9"
      },
      "execution_count": 54,
      "outputs": [
        {
          "output_type": "stream",
          "name": "stdout",
          "text": [
            "93/93 [==============================] - 1s 9ms/step - loss: 0.5346 - accuracy: 0.9074\n"
          ]
        }
      ]
    },
    {
      "cell_type": "code",
      "source": [
        "convscore "
      ],
      "metadata": {
        "colab": {
          "base_uri": "https://localhost:8080/"
        },
        "id": "vBwdoP6yOU1F",
        "outputId": "4ad2927f-ab48-40e5-ab56-024d109f0205"
      },
      "execution_count": 55,
      "outputs": [
        {
          "output_type": "execute_result",
          "data": {
            "text/plain": [
              "[0.534570574760437, 0.9073634147644043]"
            ]
          },
          "metadata": {},
          "execution_count": 55
        }
      ]
    },
    {
      "cell_type": "code",
      "source": [
        "from prettytable import PrettyTable"
      ],
      "metadata": {
        "id": "HRxWKIPDRTsc"
      },
      "execution_count": 63,
      "outputs": []
    },
    {
      "cell_type": "code",
      "source": [
        "conv_loss, conv_acc = np.around(convscore,decimals=3)\n",
        "lstm_loss, lstm_acc = np.around(score,decimals=3)"
      ],
      "metadata": {
        "id": "eFA96zb8Snk_"
      },
      "execution_count": 81,
      "outputs": []
    },
    {
      "cell_type": "code",
      "source": [
        "myTable = PrettyTable([\"Model\", \"Accuracy\", \"Loss\"], digits = 3, round = True)\n",
        "myTable.add_row([\"LSTM \",lstm_acc, lstm_loss])\n",
        "myTable.add_row([\"Convolution1D \",conv_acc, conv_loss])\n",
        "print(myTable)"
      ],
      "metadata": {
        "colab": {
          "base_uri": "https://localhost:8080/"
        },
        "id": "R_FLDOcPRXdP",
        "outputId": "a472312b-9cbe-4017-a8a5-80f67791ea59"
      },
      "execution_count": 86,
      "outputs": [
        {
          "output_type": "stream",
          "name": "stdout",
          "text": [
            "+----------------+----------+-------+\n",
            "|     Model      | Accuracy |  Loss |\n",
            "+----------------+----------+-------+\n",
            "|     LSTM       |  0.901   | 0.404 |\n",
            "| Convolution1D  |  0.907   | 0.535 |\n",
            "+----------------+----------+-------+\n"
          ]
        }
      ]
    },
    {
      "cell_type": "markdown",
      "source": [
        "# As we can see from above results of the LSTM and Convolution model for Human Activity Recognition which is multi-class classification task - accuracy obtained from the both models are almost same for same number of epochs although 2 layer of convolution is used while in the case of LSTM its single layer."
      ],
      "metadata": {
        "id": "vbqVXCISYX93"
      }
    }
  ],
  "metadata": {
    "kernelspec": {
      "display_name": "Python 3",
      "language": "python",
      "name": "python3"
    },
    "language_info": {
      "codemirror_mode": {
        "name": "ipython",
        "version": 3
      },
      "file_extension": ".py",
      "mimetype": "text/x-python",
      "name": "python",
      "nbconvert_exporter": "python",
      "pygments_lexer": "ipython3",
      "version": "3.6.1"
    },
    "colab": {
      "provenance": [],
      "include_colab_link": true
    }
  },
  "nbformat": 4,
  "nbformat_minor": 0
}